{
 "cells": [
  {
   "cell_type": "code",
   "execution_count": 1,
   "id": "358ca743",
   "metadata": {},
   "outputs": [],
   "source": [
    "import sys\n",
    "import os\n",
    "\n",
    "# Thêm thư mục gốc vào sys.path\n",
    "BASE_DIR = os.path.abspath(\"..\")  # Lấy thư mục cha của thư mục hiện tại\n",
    "sys.path.append(BASE_DIR)\n",
    "\n",
    "from save import load_model"
   ]
  },
  {
   "cell_type": "code",
   "execution_count": 3,
   "id": "4284f9f5",
   "metadata": {},
   "outputs": [
    {
     "name": "stdout",
     "output_type": "stream",
     "text": [
      "Loading model from: best_models\\random_forest\\fold_1\\model.pkl\n",
      "Loading model from: best_models\\random_forest\\fold_2\\model.pkl\n",
      "Loading model from: best_models\\random_forest\\fold_3\\model.pkl\n",
      "Loading model from: best_models\\random_forest\\fold_4\\model.pkl\n",
      "Loading model from: best_models\\random_forest\\fold_5\\model.pkl\n"
     ]
    }
   ],
   "source": [
    "model_name= \"random_forest\"\n",
    "models=[]\n",
    "for fold in range(1,6):\n",
    "    model=load_model(model_name,fold, directory=\"best_models\")\n",
    "    models.append(model)\n",
    "    \n"
   ]
  },
  {
   "cell_type": "code",
   "execution_count": 4,
   "metadata": {},
   "outputs": [
    {
     "data": {
      "text/plain": [
       "[RandomForestRegressor(max_depth=10, max_features='sqrt', min_samples_leaf=3,\n",
       "                       n_estimators=200, random_state=42),\n",
       " RandomForestRegressor(max_depth=10, max_features='sqrt', min_samples_leaf=3,\n",
       "                       n_estimators=300, random_state=42),\n",
       " RandomForestRegressor(max_features='sqrt', min_samples_leaf=3, n_estimators=200,\n",
       "                       random_state=42),\n",
       " RandomForestRegressor(max_depth=10, max_features='sqrt', min_samples_leaf=3,\n",
       "                       n_estimators=200, random_state=42),\n",
       " RandomForestRegressor(max_features='sqrt', min_samples_leaf=3, n_estimators=200,\n",
       "                       random_state=42)]"
      ]
     },
     "execution_count": 4,
     "metadata": {},
     "output_type": "execute_result"
    }
   ],
   "source": [
    "models"
   ]
  },
  {
   "cell_type": "code",
   "execution_count": 4,
   "id": "d424dade",
   "metadata": {},
   "outputs": [
    {
     "name": "stdout",
     "output_type": "stream",
     "text": [
      "<class 'pandas.core.frame.DataFrame'>\n",
      "RangeIndex: 200 entries, 0 to 199\n",
      "Data columns (total 12 columns):\n",
      " #   Column           Non-Null Count  Dtype  \n",
      "---  ------           --------------  -----  \n",
      " 0   genres           200 non-null    object \n",
      " 1   rating           200 non-null    float64\n",
      " 2   no_of_votes      200 non-null    int64  \n",
      " 3   meta_score       200 non-null    float64\n",
      " 4   release_date     200 non-null    float64\n",
      " 5   gross            200 non-null    float64\n",
      " 6   budget           200 non-null    float64\n",
      " 7   countries        200 non-null    object \n",
      " 8   log_budget       200 non-null    float64\n",
      " 9   log_no_of_votes  200 non-null    float64\n",
      " 10  log_gross        200 non-null    float64\n",
      " 11  log_gross_bin    200 non-null    int64  \n",
      "dtypes: float64(8), int64(2), object(2)\n",
      "memory usage: 18.9+ KB\n"
     ]
    }
   ],
   "source": [
    "import pandas as pd\n",
    "\n",
    "test_path=\"dataset/test.csv\"\n",
    "test_df = pd.read_csv(test_path)\n",
    "test_df.info()"
   ]
  },
  {
   "cell_type": "code",
   "execution_count": null,
   "id": "293a342b",
   "metadata": {},
   "outputs": [],
   "source": [
    "test_df.head()"
   ]
  },
  {
   "cell_type": "code",
   "execution_count": null,
   "id": "289017d4",
   "metadata": {},
   "outputs": [],
   "source": [
    "from settings import TARGET,FEATURES\n",
    "from data import load_data_test\n",
    "import numpy as np\n",
    "results = []\n",
    "\n",
    "model_dir = \"best_models/random_forest\"\n",
    "for model in models:\n",
    "    X_test, y_test =  load_data_test(\n",
    "    df=test_df,\n",
    "    folder_path= model_dir,\n",
    "    fold=1,\n",
    "    target=TARGET,\n",
    "    features=FEATURES\n",
    ")\n",
    "    # Dự đoán với mô hình\n",
    "    predictions = model.predict(X_test)\n",
    "    results.append(predictions)\n",
    "# Tính trung bình dự đoán từ 5 mô hình\n",
    "results = np.array(results)  # Chuyển danh sách sang NumPy array (shape: [5, num_samples])\n",
    "average_predictions = np.mean(results, axis=0)  # Trung bình trên trục 0 (5 mô hình)\n",
    "average_predictions "
   ]
  },
  {
   "cell_type": "code",
   "execution_count": 7,
   "id": "1dc980a6",
   "metadata": {},
   "outputs": [],
   "source": [
    "from data import _split_column\n",
    "from data import _apply_target_encoding\n",
    "import joblib\n",
    "import numpy as np\n",
    "import json\n",
    "\n",
    "def process_test_data(df_test: pd.DataFrame, features, encoding_dir: str):\n",
    "    import json\n",
    "\n",
    "    # Tách genres và countries\n",
    "    df_test['genres_list'] = _split_column(df_test, 'genres')\n",
    "    df_test['countries_list'] = _split_column(df_test, 'countries')\n",
    "\n",
    "    # Load encoding từ file json\n",
    "    with open(os.path.join(encoding_dir, \"genre_encoded.json\"), encoding='utf-8') as f:\n",
    "        genre_encoding = json.load(f)\n",
    "\n",
    "    with open(os.path.join(encoding_dir, \"country_encoded.json\"), encoding='utf-8') as f:\n",
    "        country_encoding = json.load(f)\n",
    "\n",
    "    # Áp dụng encoding để tạo đặc trưng thống kê\n",
    "    _apply_target_encoding(df_test, df_test['genres_list'], genre_encoding, 'genre_stat_feature')\n",
    "    _apply_target_encoding(df_test, df_test['countries_list'], country_encoding, 'country_stat_feature')\n",
    "\n",
    "    # Log transform các đặc trưng\n",
    "    for col in ['country_stat_feature', 'genre_stat_feature']:\n",
    "        df_test[f'log_{col}'] = np.log1p(df_test[f\"{col}\"])\n",
    "\n",
    "    # Log transform các cột số khác trong FEATURES\n",
    "    df_test['log_no_of_votes'] = np.log1p(df_test['no_of_votes'])\n",
    "    df_test['log_budget'] = np.log1p(df_test['budget'])\n",
    "\n",
    "    # Lưu lại cột 'gross' trước khi chỉ lấy các cột trong FEATURES\n",
    "    y_test = df_test['gross'].values\n",
    "\n",
    "    # Chỉ lấy các cột cần thiết trong FEATURES\n",
    "    df_test = df_test[features]\n",
    "\n",
    "    # Kiểm tra xem có đủ các cột trong FEATURES không\n",
    "    missing_cols = [col for col in features if col not in df_test.columns]\n",
    "    if missing_cols:\n",
    "        raise KeyError(f\"Missing columns in DataFrame: {missing_cols}\")\n",
    "\n",
    "    # Load scaler\n",
    "    scaler_path = os.path.join(encoding_dir, \"scaler.pkl\")\n",
    "    scaler = joblib.load(scaler_path)\n",
    "\n",
    "    # Chuẩn hóa dữ liệu test\n",
    "    X_test = scaler.transform(df_test.values)\n",
    "\n",
    "    return X_test, y_test\n"
   ]
  },
  {
   "cell_type": "code",
   "execution_count": 8,
   "id": "119d0ed0",
   "metadata": {},
   "outputs": [
    {
     "name": "stdout",
     "output_type": "stream",
     "text": [
      "\n",
      "Testing with model from Fold 1\n",
      "Fold 1 - R2: 0.5418 | MAE: 67535090.2526 | MAPE: 25.0793\n",
      "\n",
      "Testing with model from Fold 2\n",
      "Fold 2 - R2: 0.5161 | MAE: 70531052.5848 | MAPE: 16.6051\n",
      "\n",
      "Testing with model from Fold 3\n",
      "Fold 3 - R2: 0.5027 | MAE: 70329495.3870 | MAPE: 16.6384\n",
      "\n",
      "Testing with model from Fold 4\n",
      "Fold 4 - R2: 0.5199 | MAE: 68833532.5746 | MAPE: 10.7379\n",
      "\n",
      "Testing with model from Fold 5\n",
      "Fold 5 - R2: 0.5597 | MAE: 67458207.8109 | MAPE: 18.1433\n"
     ]
    }
   ],
   "source": [
    "from sklearn.metrics import r2_score, mean_absolute_error, mean_absolute_percentage_error\n",
    "fold_scores = []\n",
    "\n",
    "for fold in range(1, 6):\n",
    "    print(f\"\\nTesting with model from Fold {fold}\")\n",
    "\n",
    "    fold_dir = f\"best_models/random_forest/fold_{fold}\"\n",
    "    model_path = os.path.join(fold_dir, \"model.pkl\")\n",
    "\n",
    "    if not os.path.exists(model_path):\n",
    "        print(f\" Missing model for fold {fold}\")\n",
    "        continue\n",
    "\n",
    "    # Load model\n",
    "    model = joblib.load(model_path)\n",
    "\n",
    "    # Xử lý dữ liệu test\n",
    "    fold_path = f\"best_models/random_forest\"\n",
    "    X_test, y_test = load_data_test(test_df, features=FEATURES, folder_path=fold_path, fold=fold, target=\"gross\")\n",
    "\n",
    "    # Dự đoán và đánh giá\n",
    "    log_pred = model.predict(X_test)\n",
    "    y_pred = np.expm1(log_pred)  # Chuyển đổi về giá trị gốc\n",
    "\n",
    "    r2 = r2_score(y_test, y_pred)\n",
    "    mae = mean_absolute_error(y_test, y_pred)\n",
    "    mape = mean_absolute_percentage_error(y_test, y_pred)\n",
    "\n",
    "    print(f\"Fold {fold} - R2: {r2:.4f} | MAE: {mae:.4f} | MAPE: {mape:.4f}\")\n",
    "    fold_scores.append((fold, r2, mae, mape))"
   ]
  },
  {
   "cell_type": "code",
   "execution_count": 9,
   "id": "bacbd051",
   "metadata": {},
   "outputs": [
    {
     "name": "stdout",
     "output_type": "stream",
     "text": [
      "\n",
      "📈 AVERAGE over folds - R2: 0.5280 | MAE: 68937475.7220 | MAPE: 17.4408\n"
     ]
    }
   ],
   "source": [
    "# Trung bình kết quả các fold\n",
    "r2_avg = np.mean([s[1] for s in fold_scores])\n",
    "mae_avg = np.mean([s[2] for s in fold_scores])\n",
    "mape_avg = np.mean([s[3] for s in fold_scores])\n",
    "\n",
    "print(f\"\\n📈 AVERAGE over folds - R2: {r2_avg:.4f} | MAE: {mae_avg:.4f} | MAPE: {mape_avg:.4f}\")"
   ]
  },
  {
   "cell_type": "code",
   "execution_count": 12,
   "id": "9cb120c0",
   "metadata": {},
   "outputs": [
    {
     "name": "stdout",
     "output_type": "stream",
     "text": [
      "\n",
      "🔍 Loading model and encoding from Fold 1\n",
      "\n",
      "🔍 Loading model and encoding from Fold 2\n",
      "\n",
      "🔍 Loading model and encoding from Fold 3\n",
      "\n",
      "🔍 Loading model and encoding from Fold 4\n",
      "\n",
      "🔍 Loading model and encoding from Fold 5\n",
      "\n",
      "📊 Ensemble Results (Average of 5 folds):\n",
      "🔹 R2: 0.5332 | MAE: 68472310.5415 | MAPE: 17.4295\n"
     ]
    }
   ],
   "source": [
    "all_preds = []\n",
    "y_test = None  # Chỉ cần lấy y_test một lần\n",
    "\n",
    "for fold in range(1, 6):\n",
    "    print(f\"\\n🔍 Loading model and encoding from Fold {fold}\")\n",
    "\n",
    "    fold_dir = f\"best_models/random_forest/fold_{fold}\"\n",
    "    model_path = os.path.join(fold_dir, \"model.pkl\")\n",
    "\n",
    "    if not os.path.exists(model_path):\n",
    "        print(f\"⚠️ Missing model for fold {fold}\")\n",
    "        continue\n",
    "\n",
    "    model = joblib.load(model_path)\n",
    "\n",
    "    # Xử lý dữ liệu test (sử dụng encoding + scaler của từng fold)\n",
    "    fold_path = f\"best_models/random_forest\"\n",
    "    X_test_fold, y_test_fold = load_data_test(test_df, features=FEATURES, folder_path=fold_path, fold=fold, target=\"gross\")\n",
    "\n",
    "    # Chỉ cần lưu y_test một lần (giống nhau cho mọi fold)\n",
    "    if y_test is None:\n",
    "        y_test = y_test_fold\n",
    "\n",
    "    # Dự đoán và lưu lại\n",
    "    log_pred = model.predict(X_test_fold)  # Sử dụng X_test_fold thay vì X_test\n",
    "    y_pred_fold = np.expm1(log_pred)  # Chuyển đổi về giá trị gốc\n",
    "\n",
    "    all_preds.append(y_pred_fold)\n",
    "\n",
    "# Trung bình dự đoán từ tất cả mô hình\n",
    "y_pred_avg = np.mean(all_preds, axis=0)\n",
    "\n",
    "# Đánh giá\n",
    "r2 = r2_score(y_test, y_pred_avg)\n",
    "mae = mean_absolute_error(y_test, y_pred_avg)\n",
    "mape = mean_absolute_percentage_error(y_test, y_pred_avg)\n",
    "\n",
    "print(f\"\\n📊 Ensemble Results (Average of 5 folds):\")\n",
    "print(f\"🔹 R2: {r2:.4f} | MAE: {mae:.4f} | MAPE: {mape:.4f}\")\n"
   ]
  }
 ],
 "metadata": {
  "kernelspec": {
   "display_name": ".venv",
   "language": "python",
   "name": "python3"
  },
  "language_info": {
   "codemirror_mode": {
    "name": "ipython",
    "version": 3
   },
   "file_extension": ".py",
   "mimetype": "text/x-python",
   "name": "python",
   "nbconvert_exporter": "python",
   "pygments_lexer": "ipython3",
   "version": "3.10.9"
  }
 },
 "nbformat": 4,
 "nbformat_minor": 5
}
