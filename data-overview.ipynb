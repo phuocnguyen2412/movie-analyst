{
 "cells": [
  {
   "cell_type": "code",
   "id": "initial_id",
   "metadata": {
    "collapsed": true,
    "ExecuteTime": {
     "end_time": "2025-04-01T07:10:25.697620Z",
     "start_time": "2025-04-01T07:10:25.647242Z"
    }
   },
   "source": [
    "\n",
    "\n",
    "import pandas as pd\n",
    "\n",
    "movie_df = pd.read_csv('movies_data.csv')\n",
    "movie_df.head(5)"
   ],
   "outputs": [
    {
     "data": {
      "text/plain": [
       "                     name                                             genres  \\\n",
       "0         Attack on Titan  Action Epic, Adult Animation, Anime, Shōnen, S...   \n",
       "1              Love Hurts                       Martial Arts, Action, Comedy   \n",
       "2  The Quick and the Dead          Action, Drama, Romance, Thriller, Western   \n",
       "3           The Equalizer  Cop Drama, Police Procedural, Action, Crime, D...   \n",
       "4              Goosebumps  Teen Horror, Action, Adventure, Comedy, Drama,...   \n",
       "\n",
       "        type  rating no_of_votes  meta_score  \\\n",
       "0  TV Series     9.1        591K         NaN   \n",
       "1      Movie     5.3        6.8K        34.0   \n",
       "2      Movie     6.5        107K        49.0   \n",
       "3  TV Series     5.6         19K         NaN   \n",
       "4  TV Series     6.7         15K         NaN   \n",
       "\n",
       "                         release_date        gross                   budget  \\\n",
       "0  September 28, 2013 (United States)          NaN                      NaN   \n",
       "1    February 7, 2025 (United States)  $17,235,040  $18,000,000 (estimated)   \n",
       "2   February 10, 1995 (United States)  $18,636,537  $32,000,000 (estimated)   \n",
       "3    February 7, 2021 (United States)          NaN                      NaN   \n",
       "4    October 13, 2023 (United States)          NaN                      NaN   \n",
       "\n",
       "                       countries  \\\n",
       "0                          Japan   \n",
       "1                  United States   \n",
       "2           United States, Japan   \n",
       "3                  United States   \n",
       "4  United States, Canada, France   \n",
       "\n",
       "                                                 url  \n",
       "0  https://www.imdb.com/title/tt2560140/?ref_=sr_...  \n",
       "1  https://www.imdb.com/title/tt30788842/?ref_=sr...  \n",
       "2  https://www.imdb.com/title/tt0114214/?ref_=sr_...  \n",
       "3  https://www.imdb.com/title/tt11242246/?ref_=sr...  \n",
       "4  https://www.imdb.com/title/tt17720272/?ref_=sr...  "
      ],
      "text/html": [
       "<div>\n",
       "<style scoped>\n",
       "    .dataframe tbody tr th:only-of-type {\n",
       "        vertical-align: middle;\n",
       "    }\n",
       "\n",
       "    .dataframe tbody tr th {\n",
       "        vertical-align: top;\n",
       "    }\n",
       "\n",
       "    .dataframe thead th {\n",
       "        text-align: right;\n",
       "    }\n",
       "</style>\n",
       "<table border=\"1\" class=\"dataframe\">\n",
       "  <thead>\n",
       "    <tr style=\"text-align: right;\">\n",
       "      <th></th>\n",
       "      <th>name</th>\n",
       "      <th>genres</th>\n",
       "      <th>type</th>\n",
       "      <th>rating</th>\n",
       "      <th>no_of_votes</th>\n",
       "      <th>meta_score</th>\n",
       "      <th>release_date</th>\n",
       "      <th>gross</th>\n",
       "      <th>budget</th>\n",
       "      <th>countries</th>\n",
       "      <th>url</th>\n",
       "    </tr>\n",
       "  </thead>\n",
       "  <tbody>\n",
       "    <tr>\n",
       "      <th>0</th>\n",
       "      <td>Attack on Titan</td>\n",
       "      <td>Action Epic, Adult Animation, Anime, Shōnen, S...</td>\n",
       "      <td>TV Series</td>\n",
       "      <td>9.1</td>\n",
       "      <td>591K</td>\n",
       "      <td>NaN</td>\n",
       "      <td>September 28, 2013 (United States)</td>\n",
       "      <td>NaN</td>\n",
       "      <td>NaN</td>\n",
       "      <td>Japan</td>\n",
       "      <td>https://www.imdb.com/title/tt2560140/?ref_=sr_...</td>\n",
       "    </tr>\n",
       "    <tr>\n",
       "      <th>1</th>\n",
       "      <td>Love Hurts</td>\n",
       "      <td>Martial Arts, Action, Comedy</td>\n",
       "      <td>Movie</td>\n",
       "      <td>5.3</td>\n",
       "      <td>6.8K</td>\n",
       "      <td>34.0</td>\n",
       "      <td>February 7, 2025 (United States)</td>\n",
       "      <td>$17,235,040</td>\n",
       "      <td>$18,000,000 (estimated)</td>\n",
       "      <td>United States</td>\n",
       "      <td>https://www.imdb.com/title/tt30788842/?ref_=sr...</td>\n",
       "    </tr>\n",
       "    <tr>\n",
       "      <th>2</th>\n",
       "      <td>The Quick and the Dead</td>\n",
       "      <td>Action, Drama, Romance, Thriller, Western</td>\n",
       "      <td>Movie</td>\n",
       "      <td>6.5</td>\n",
       "      <td>107K</td>\n",
       "      <td>49.0</td>\n",
       "      <td>February 10, 1995 (United States)</td>\n",
       "      <td>$18,636,537</td>\n",
       "      <td>$32,000,000 (estimated)</td>\n",
       "      <td>United States, Japan</td>\n",
       "      <td>https://www.imdb.com/title/tt0114214/?ref_=sr_...</td>\n",
       "    </tr>\n",
       "    <tr>\n",
       "      <th>3</th>\n",
       "      <td>The Equalizer</td>\n",
       "      <td>Cop Drama, Police Procedural, Action, Crime, D...</td>\n",
       "      <td>TV Series</td>\n",
       "      <td>5.6</td>\n",
       "      <td>19K</td>\n",
       "      <td>NaN</td>\n",
       "      <td>February 7, 2021 (United States)</td>\n",
       "      <td>NaN</td>\n",
       "      <td>NaN</td>\n",
       "      <td>United States</td>\n",
       "      <td>https://www.imdb.com/title/tt11242246/?ref_=sr...</td>\n",
       "    </tr>\n",
       "    <tr>\n",
       "      <th>4</th>\n",
       "      <td>Goosebumps</td>\n",
       "      <td>Teen Horror, Action, Adventure, Comedy, Drama,...</td>\n",
       "      <td>TV Series</td>\n",
       "      <td>6.7</td>\n",
       "      <td>15K</td>\n",
       "      <td>NaN</td>\n",
       "      <td>October 13, 2023 (United States)</td>\n",
       "      <td>NaN</td>\n",
       "      <td>NaN</td>\n",
       "      <td>United States, Canada, France</td>\n",
       "      <td>https://www.imdb.com/title/tt17720272/?ref_=sr...</td>\n",
       "    </tr>\n",
       "  </tbody>\n",
       "</table>\n",
       "</div>"
      ]
     },
     "execution_count": 59,
     "metadata": {},
     "output_type": "execute_result"
    }
   ],
   "execution_count": 59
  },
  {
   "metadata": {
    "ExecuteTime": {
     "end_time": "2025-04-01T07:10:27.131780Z",
     "start_time": "2025-04-01T07:10:27.117092Z"
    }
   },
   "cell_type": "code",
   "source": "movie_df.info()",
   "id": "f55e7cea3c124b5f",
   "outputs": [
    {
     "name": "stdout",
     "output_type": "stream",
     "text": [
      "<class 'pandas.core.frame.DataFrame'>\n",
      "RangeIndex: 7994 entries, 0 to 7993\n",
      "Data columns (total 11 columns):\n",
      " #   Column        Non-Null Count  Dtype  \n",
      "---  ------        --------------  -----  \n",
      " 0   name          7994 non-null   object \n",
      " 1   genres        7994 non-null   object \n",
      " 2   type          7994 non-null   object \n",
      " 3   rating        7750 non-null   float64\n",
      " 4   no_of_votes   7750 non-null   object \n",
      " 5   meta_score    3646 non-null   float64\n",
      " 6   release_date  7936 non-null   object \n",
      " 7   gross         3533 non-null   object \n",
      " 8   budget        3237 non-null   object \n",
      " 9   countries     7958 non-null   object \n",
      " 10  url           7994 non-null   object \n",
      "dtypes: float64(2), object(9)\n",
      "memory usage: 687.1+ KB\n"
     ]
    }
   ],
   "execution_count": 60
  },
  {
   "metadata": {
    "ExecuteTime": {
     "end_time": "2025-04-01T07:12:21.495922Z",
     "start_time": "2025-04-01T07:12:19.959580Z"
    }
   },
   "cell_type": "code",
   "source": [
    "import matplotlib.pyplot as plt\n",
    "import seaborn as sns\n",
    "\n",
    "plt.figure(figsize=(8, 5))\n",
    "sns.histplot(movie_df[\"budget\"].dropna(), bins=30, kde=True)\n",
    "plt.xlabel(\"Budget\")\n",
    "plt.ylabel(\"Frequency\")\n",
    "plt.title(\"Distribution of Budget\")\n",
    "plt.show()\n"
   ],
   "id": "a5db96dec6417087",
   "outputs": [
    {
     "name": "stderr",
     "output_type": "stream",
     "text": [
      "/opt/anaconda3/lib/python3.12/site-packages/IPython/core/pylabtools.py:170: UserWarning: Glyph 8377 (\\N{INDIAN RUPEE SIGN}) missing from current font.\n",
      "  fig.canvas.print_figure(bytes_io, **kw)\n"
     ]
    },
    {
     "data": {
      "text/plain": [
       "<Figure size 800x500 with 1 Axes>"
      ],
      "image/png": "[encoded data removed]"
     },
     "metadata": {},
     "output_type": "display_data"
    }
   ],
   "execution_count": 67
  },
  {
   "metadata": {
    "ExecuteTime": {
     "end_time": "2025-04-01T07:12:43.710971Z",
     "start_time": "2025-04-01T07:12:42.397608Z"
    }
   },
   "cell_type": "code",
   "source": [
    "plt.figure(figsize=(6, 4))\n",
    "sns.boxplot(x=movie_df[\"budget\"])\n",
    "plt.title(\"Boxplot of Budget\")\n",
    "plt.show()\n"
   ],
   "id": "a96f63fe66846b2e",
   "outputs": [
    {
     "name": "stderr",
     "output_type": "stream",
     "text": [
      "/opt/anaconda3/lib/python3.12/site-packages/IPython/core/pylabtools.py:170: UserWarning: Glyph 8377 (\\N{INDIAN RUPEE SIGN}) missing from current font.\n",
      "  fig.canvas.print_figure(bytes_io, **kw)\n"
     ]
    },
    {
     "data": {
      "text/plain": [
       "<Figure size 600x400 with 1 Axes>"
      ],
      "image/png": "[encoded data removed]"
     },
     "metadata": {},
     "output_type": "display_data"
    }
   ],
   "execution_count": 68
  },
  {
   "metadata": {},
   "cell_type": "markdown",
   "source": "Nhiều outliers + Phân phối lệch trái => fillna của budget bằng median",
   "id": "7c1dfde6848a8496"
  },
  {
   "metadata": {
    "ExecuteTime": {
     "end_time": "2025-04-01T07:11:59.604975Z",
     "start_time": "2025-04-01T07:11:59.451360Z"
    }
   },
   "cell_type": "code",
   "outputs": [
    {
     "data": {
      "text/plain": [
       "<Figure size 800x500 with 1 Axes>"
      ],
      "image/png": "[encoded data removed]"
     },
     "metadata": {},
     "output_type": "display_data"
    }
   ],
   "execution_count": 65,
   "source": [
    "plt.figure(figsize=(8, 5))\n",
    "sns.histplot(movie_df[\"meta_score\"].dropna(), bins=40, kde=True)\n",
    "plt.xlabel(\"Metascore\")\n",
    "plt.ylabel(\"Frequency\")\n",
    "plt.title(\"Distribution of Metascore\")\n",
    "plt.show()"
   ],
   "id": "a913b1d3f540dc35"
  },
  {
   "metadata": {
    "ExecuteTime": {
     "end_time": "2025-04-01T07:12:52.630034Z",
     "start_time": "2025-04-01T07:12:52.545472Z"
    }
   },
   "cell_type": "code",
   "outputs": [
    {
     "data": {
      "text/plain": [
       "<Figure size 600x400 with 1 Axes>"
      ],
      "image/png": "[encoded data removed]"
     },
     "metadata": {},
     "output_type": "display_data"
    }
   ],
   "execution_count": 69,
   "source": [
    "plt.figure(figsize=(6, 4))\n",
    "sns.boxplot(x=movie_df[\"meta_score\"])\n",
    "plt.title(\"Boxplot of Metascore\")\n",
    "plt.show()"
   ],
   "id": "44a7e798deeded19"
  },
  {
   "metadata": {
    "ExecuteTime": {
     "end_time": "2025-04-01T07:10:36.283094Z",
     "start_time": "2025-04-01T07:10:36.273412Z"
    }
   },
   "cell_type": "code",
   "outputs": [
    {
     "name": "stdout",
     "output_type": "stream",
     "text": [
      "<class 'pandas.core.frame.DataFrame'>\n",
      "Index: 4996 entries, 0 to 7993\n",
      "Data columns (total 11 columns):\n",
      " #   Column        Non-Null Count  Dtype  \n",
      "---  ------        --------------  -----  \n",
      " 0   name          4996 non-null   object \n",
      " 1   genres        4996 non-null   object \n",
      " 2   type          4996 non-null   object \n",
      " 3   rating        4863 non-null   float64\n",
      " 4   no_of_votes   4863 non-null   object \n",
      " 5   meta_score    2143 non-null   float64\n",
      " 6   release_date  4946 non-null   object \n",
      " 7   gross         2084 non-null   object \n",
      " 8   budget        1891 non-null   object \n",
      " 9   countries     4969 non-null   object \n",
      " 10  url           4996 non-null   object \n",
      "dtypes: float64(2), object(9)\n",
      "memory usage: 468.4+ KB\n"
     ]
    }
   ],
   "execution_count": 61,
   "source": [
    "movie_df = movie_df.drop_duplicates(subset=[\"name\"], keep=\"first\")\n",
    "movie_df.info()"
   ],
   "id": "b7ea19887ce7fd02"
  },
  {
   "metadata": {
    "ExecuteTime": {
     "end_time": "2025-04-01T07:10:41.337396Z",
     "start_time": "2025-04-01T07:10:41.259481Z"
    }
   },
   "cell_type": "code",
   "outputs": [
    {
     "name": "stdout",
     "output_type": "stream",
     "text": [
      "<class 'pandas.core.frame.DataFrame'>\n",
      "RangeIndex: 4839 entries, 0 to 4838\n",
      "Data columns (total 13 columns):\n",
      " #   Column        Non-Null Count  Dtype  \n",
      "---  ------        --------------  -----  \n",
      " 0   name          4839 non-null   object \n",
      " 1   genres        4839 non-null   object \n",
      " 2   type          4839 non-null   object \n",
      " 3   rating        4839 non-null   float64\n",
      " 4   no_of_votes   4839 non-null   int64  \n",
      " 5   meta_score    4839 non-null   float64\n",
      " 6   release_date  4808 non-null   float64\n",
      " 7   gross         2084 non-null   float64\n",
      " 8   budget        4839 non-null   float64\n",
      " 9   countries     4839 non-null   object \n",
      " 10  url           4839 non-null   object \n",
      " 11  ROI           1612 non-null   float64\n",
      " 12  result        4839 non-null   object \n",
      "dtypes: float64(6), int64(1), object(6)\n",
      "memory usage: 491.6+ KB\n"
     ]
    }
   ],
   "execution_count": 62,
   "source": [
    "movie_processed_df = pd.read_csv('movies_data_processed.csv')\n",
    "movie_processed_df.info()"
   ],
   "id": "5365c00b48d51ffd"
  },
  {
   "metadata": {
    "ExecuteTime": {
     "end_time": "2025-04-01T07:10:44.261416Z",
     "start_time": "2025-04-01T07:10:44.248697Z"
    }
   },
   "cell_type": "code",
   "outputs": [
    {
     "name": "stderr",
     "output_type": "stream",
     "text": [
      "/var/folders/4m/jv9v9h3x5ldcqjljb4m2b8j80000gn/T/ipykernel_85021/102955810.py:1: FutureWarning: DataFrame.applymap has been deprecated. Use DataFrame.map instead.\n",
      "  movie_processed_df.describe().applymap(lambda x: f\"{x:,.2f}\")\n"
     ]
    },
    {
     "data": {
      "text/plain": [
       "         rating   no_of_votes meta_score release_date             gross  \\\n",
       "count  4,839.00      4,839.00   4,839.00     4,808.00          2,084.00   \n",
       "mean       7.03    114,235.70      64.75     2,003.73    144,453,202.24   \n",
       "std        1.13    246,886.11      10.93        22.16    264,015,435.07   \n",
       "min        1.50          6.00      10.00     1,915.00             19.00   \n",
       "25%        6.50      2,200.00      64.73     1,996.00      6,456,224.50   \n",
       "50%        7.20     21,000.00      64.73     2,012.00     44,139,483.00   \n",
       "75%        7.80    110,500.00      64.73     2,020.00    161,055,677.50   \n",
       "max        9.60  3,000,000.00     100.00     2,025.00  2,923,710,708.00   \n",
       "\n",
       "               budget       ROI  \n",
       "count        4,839.00  1,612.00  \n",
       "mean    32,514,160.79      4.55  \n",
       "std     35,402,785.88     14.35  \n",
       "min         10,000.00     -1.00  \n",
       "25%     25,000,000.00      0.11  \n",
       "50%     25,000,000.00      1.69  \n",
       "75%     25,000,000.00      4.28  \n",
       "max    414,900,000.00    316.63  "
      ],
      "text/html": [
       "<div>\n",
       "<style scoped>\n",
       "    .dataframe tbody tr th:only-of-type {\n",
       "        vertical-align: middle;\n",
       "    }\n",
       "\n",
       "    .dataframe tbody tr th {\n",
       "        vertical-align: top;\n",
       "    }\n",
       "\n",
       "    .dataframe thead th {\n",
       "        text-align: right;\n",
       "    }\n",
       "</style>\n",
       "<table border=\"1\" class=\"dataframe\">\n",
       "  <thead>\n",
       "    <tr style=\"text-align: right;\">\n",
       "      <th></th>\n",
       "      <th>rating</th>\n",
       "      <th>no_of_votes</th>\n",
       "      <th>meta_score</th>\n",
       "      <th>release_date</th>\n",
       "      <th>gross</th>\n",
       "      <th>budget</th>\n",
       "      <th>ROI</th>\n",
       "    </tr>\n",
       "  </thead>\n",
       "  <tbody>\n",
       "    <tr>\n",
       "      <th>count</th>\n",
       "      <td>4,839.00</td>\n",
       "      <td>4,839.00</td>\n",
       "      <td>4,839.00</td>\n",
       "      <td>4,808.00</td>\n",
       "      <td>2,084.00</td>\n",
       "      <td>4,839.00</td>\n",
       "      <td>1,612.00</td>\n",
       "    </tr>\n",
       "    <tr>\n",
       "      <th>mean</th>\n",
       "      <td>7.03</td>\n",
       "      <td>114,235.70</td>\n",
       "      <td>64.75</td>\n",
       "      <td>2,003.73</td>\n",
       "      <td>144,453,202.24</td>\n",
       "      <td>32,514,160.79</td>\n",
       "      <td>4.55</td>\n",
       "    </tr>\n",
       "    <tr>\n",
       "      <th>std</th>\n",
       "      <td>1.13</td>\n",
       "      <td>246,886.11</td>\n",
       "      <td>10.93</td>\n",
       "      <td>22.16</td>\n",
       "      <td>264,015,435.07</td>\n",
       "      <td>35,402,785.88</td>\n",
       "      <td>14.35</td>\n",
       "    </tr>\n",
       "    <tr>\n",
       "      <th>min</th>\n",
       "      <td>1.50</td>\n",
       "      <td>6.00</td>\n",
       "      <td>10.00</td>\n",
       "      <td>1,915.00</td>\n",
       "      <td>19.00</td>\n",
       "      <td>10,000.00</td>\n",
       "      <td>-1.00</td>\n",
       "    </tr>\n",
       "    <tr>\n",
       "      <th>25%</th>\n",
       "      <td>6.50</td>\n",
       "      <td>2,200.00</td>\n",
       "      <td>64.73</td>\n",
       "      <td>1,996.00</td>\n",
       "      <td>6,456,224.50</td>\n",
       "      <td>25,000,000.00</td>\n",
       "      <td>0.11</td>\n",
       "    </tr>\n",
       "    <tr>\n",
       "      <th>50%</th>\n",
       "      <td>7.20</td>\n",
       "      <td>21,000.00</td>\n",
       "      <td>64.73</td>\n",
       "      <td>2,012.00</td>\n",
       "      <td>44,139,483.00</td>\n",
       "      <td>25,000,000.00</td>\n",
       "      <td>1.69</td>\n",
       "    </tr>\n",
       "    <tr>\n",
       "      <th>75%</th>\n",
       "      <td>7.80</td>\n",
       "      <td>110,500.00</td>\n",
       "      <td>64.73</td>\n",
       "      <td>2,020.00</td>\n",
       "      <td>161,055,677.50</td>\n",
       "      <td>25,000,000.00</td>\n",
       "      <td>4.28</td>\n",
       "    </tr>\n",
       "    <tr>\n",
       "      <th>max</th>\n",
       "      <td>9.60</td>\n",
       "      <td>3,000,000.00</td>\n",
       "      <td>100.00</td>\n",
       "      <td>2,025.00</td>\n",
       "      <td>2,923,710,708.00</td>\n",
       "      <td>414,900,000.00</td>\n",
       "      <td>316.63</td>\n",
       "    </tr>\n",
       "  </tbody>\n",
       "</table>\n",
       "</div>"
      ]
     },
     "execution_count": 63,
     "metadata": {},
     "output_type": "execute_result"
    }
   ],
   "execution_count": 63,
   "source": "movie_processed_df.describe().applymap(lambda x: f\"{x:,.2f}\")",
   "id": "bba0d86ca432d615"
  },
  {
   "metadata": {},
   "cell_type": "markdown",
   "source": "",
   "id": "d8004c1b2746034c"
  },
  {
   "metadata": {
    "ExecuteTime": {
     "end_time": "2025-04-01T07:18:10.888835Z",
     "start_time": "2025-04-01T07:18:10.870692Z"
    }
   },
   "cell_type": "code",
   "source": "movie_processed_df[[\"type\", \"countries\"]].describe()",
   "id": "b1df51f732560457",
   "outputs": [
    {
     "data": {
      "text/plain": [
       "         type      countries\n",
       "count    4839           4839\n",
       "unique      2            603\n",
       "top     Movie  United States\n",
       "freq     2701           2783"
      ],
      "text/html": [
       "<div>\n",
       "<style scoped>\n",
       "    .dataframe tbody tr th:only-of-type {\n",
       "        vertical-align: middle;\n",
       "    }\n",
       "\n",
       "    .dataframe tbody tr th {\n",
       "        vertical-align: top;\n",
       "    }\n",
       "\n",
       "    .dataframe thead th {\n",
       "        text-align: right;\n",
       "    }\n",
       "</style>\n",
       "<table border=\"1\" class=\"dataframe\">\n",
       "  <thead>\n",
       "    <tr style=\"text-align: right;\">\n",
       "      <th></th>\n",
       "      <th>type</th>\n",
       "      <th>countries</th>\n",
       "    </tr>\n",
       "  </thead>\n",
       "  <tbody>\n",
       "    <tr>\n",
       "      <th>count</th>\n",
       "      <td>4839</td>\n",
       "      <td>4839</td>\n",
       "    </tr>\n",
       "    <tr>\n",
       "      <th>unique</th>\n",
       "      <td>2</td>\n",
       "      <td>603</td>\n",
       "    </tr>\n",
       "    <tr>\n",
       "      <th>top</th>\n",
       "      <td>Movie</td>\n",
       "      <td>United States</td>\n",
       "    </tr>\n",
       "    <tr>\n",
       "      <th>freq</th>\n",
       "      <td>2701</td>\n",
       "      <td>2783</td>\n",
       "    </tr>\n",
       "  </tbody>\n",
       "</table>\n",
       "</div>"
      ]
     },
     "execution_count": 79,
     "metadata": {},
     "output_type": "execute_result"
    }
   ],
   "execution_count": 79
  },
  {
   "metadata": {
    "ExecuteTime": {
     "end_time": "2025-04-01T07:18:04.489383Z",
     "start_time": "2025-04-01T07:18:04.451573Z"
    }
   },
   "cell_type": "code",
   "source": [
    "from collections import Counter\n",
    "\n",
    "\n",
    "genre_counts = Counter(genre.strip() for row in movie_processed_df[\"genres\"].dropna() for genre in row.split(\",\"))\n",
    "\n",
    "\n",
    "genre_df = pd.DataFrame(genre_counts.items(), columns=[\"Genre\", \"Count\"]).sort_values(by=\"Count\", ascending=False)\n",
    "\n",
    "print(genre_df)\n",
    "movie_processed_df[\"num_genres\"] = movie_processed_df[\"genres\"].dropna().apply(lambda x: len(x.split(\",\")))\n",
    "movie_processed_df[\"num_genres\"].describe()\n",
    "\n",
    "print(\"Top 5 thể loại phổ biến nhất:\")\n",
    "genre_df[\"Genre\"].describe()\n"
   ],
   "id": "b73df8f8fab7e19b",
   "outputs": [
    {
     "name": "stdout",
     "output_type": "stream",
     "text": [
      "                 Genre  Count\n",
      "9                Drama   2329\n",
      "11              Comedy   1445\n",
      "7            Adventure    935\n",
      "13            Thriller    825\n",
      "6               Action    819\n",
      "..                 ...    ...\n",
      "155  Holiday Animation      2\n",
      "160              Wuxia      2\n",
      "206             Giallo      1\n",
      "207              Josei      1\n",
      "208         Telenovela      1\n",
      "\n",
      "[211 rows x 2 columns]\n",
      "Top 5 thể loại phổ biến nhất:\n"
     ]
    },
    {
     "data": {
      "text/plain": [
       "count       211\n",
       "unique      211\n",
       "top       Drama\n",
       "freq          1\n",
       "Name: Genre, dtype: object"
      ]
     },
     "execution_count": 78,
     "metadata": {},
     "output_type": "execute_result"
    }
   ],
   "execution_count": 78
  },
  {
   "metadata": {},
   "cell_type": "code",
   "outputs": [],
   "execution_count": null,
   "source": "",
   "id": "293fdb4ec67e0b5e"
  }
 ],
 "metadata": {
  "kernelspec": {
   "display_name": "Python 3",
   "language": "python",
   "name": "python3"
  },
  "language_info": {
   "codemirror_mode": {
    "name": "ipython",
    "version": 2
   },
   "file_extension": ".py",
   "mimetype": "text/x-python",
   "name": "python",
   "nbconvert_exporter": "python",
   "pygments_lexer": "ipython2",
   "version": "2.7.6"
  }
 },
 "nbformat": 4,
 "nbformat_minor": 5
}
