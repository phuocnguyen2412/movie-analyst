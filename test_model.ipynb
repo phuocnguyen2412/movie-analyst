{
 "cells": [
  {
   "cell_type": "code",
   "execution_count": 1,
   "id": "5607f859",
   "metadata": {},
   "outputs": [],
   "source": [
    "from save import load_model"
   ]
  },
  {
   "cell_type": "code",
   "execution_count": 2,
   "id": "9dec4b0d",
   "metadata": {},
   "outputs": [],
   "source": [
    "model_name= \"random_forest\"\n",
    "random_forest_fold_1= load_model(model_name,1)\n",
    "random_forest_fold_2= load_model(model_name,2)\n",
    "random_forest_fold_3= load_model(model_name,3)\n",
    "random_forest_fold_4= load_model(model_name,4)\n",
    "random_forest_fold_5= load_model(model_name,5)"
   ]
  }
 ],
 "metadata": {
  "kernelspec": {
   "display_name": ".venv",
   "language": "python",
   "name": "python3"
  },
  "language_info": {
   "codemirror_mode": {
    "name": "ipython",
    "version": 3
   },
   "file_extension": ".py",
   "mimetype": "text/x-python",
   "name": "python",
   "nbconvert_exporter": "python",
   "pygments_lexer": "ipython3",
   "version": "3.10.9"
  }
 },
 "nbformat": 4,
 "nbformat_minor": 5
}
