{
 "cells": [
  {
   "cell_type": "code",
   "execution_count": 4,
   "id": "5607f859",
   "metadata": {},
   "outputs": [],
   "source": [
    "from save import load_model"
   ]
  },
  {
   "cell_type": "code",
   "execution_count": null,
   "id": "6ed42bbd",
   "metadata": {},
   "outputs": [],
   "source": []
  },
  {
   "cell_type": "code",
   "execution_count": 5,
   "id": "9dec4b0d",
   "metadata": {},
   "outputs": [
    {
     "name": "stdout",
     "output_type": "stream",
     "text": [
      "Loading model from: best_models\\random_forest\\fold_1\\model.pkl\n",
      "Loading model from: best_models\\random_forest\\fold_2\\model.pkl\n",
      "Loading model from: best_models\\random_forest\\fold_3\\model.pkl\n",
      "Loading model from: best_models\\random_forest\\fold_4\\model.pkl\n",
      "Loading model from: best_models\\random_forest\\fold_5\\model.pkl\n"
     ]
    }
   ],
   "source": [
    "model_name= \"random_forest\"\n",
    "random_forest_fold_1= load_model(model_name,1)\n",
    "random_forest_fold_2= load_model(model_name,2)\n",
    "random_forest_fold_3= load_model(model_name,3)\n",
    "random_forest_fold_4= load_model(model_name,4)\n",
    "random_forest_fold_5= load_model(model_name,5)"
   ]
  },
  {
   "cell_type": "code",
   "execution_count": null,
   "id": "b233d549",
   "metadata": {},
   "outputs": [],
   "source": []
  }
 ],
 "metadata": {
  "kernelspec": {
   "display_name": ".venv",
   "language": "python",
   "name": "python3"
  },
  "language_info": {
   "codemirror_mode": {
    "name": "ipython",
    "version": 3
   },
   "file_extension": ".py",
   "mimetype": "text/x-python",
   "name": "python",
   "nbconvert_exporter": "python",
   "pygments_lexer": "ipython3",
   "version": "3.10.9"
  }
 },
 "nbformat": 4,
 "nbformat_minor": 5
}
