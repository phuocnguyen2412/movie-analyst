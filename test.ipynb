{
 "cells": [
  {
   "cell_type": "code",
   "id": "initial_id",
   "metadata": {
    "collapsed": true,
    "ExecuteTime": {
     "end_time": "2025-05-05T15:05:02.492541Z",
     "start_time": "2025-05-05T15:05:02.467124Z"
    }
   },
   "source": [
    "import pandas as pd\n",
    "df = pd.read_csv(\"movies_data_processed.csv\")\n",
    "df.info()"
   ],
   "outputs": [
    {
     "name": "stdout",
     "output_type": "stream",
     "text": [
      "<class 'pandas.core.frame.DataFrame'>\n",
      "RangeIndex: 4839 entries, 0 to 4838\n",
      "Data columns (total 8 columns):\n",
      " #   Column       Non-Null Count  Dtype  \n",
      "---  ------       --------------  -----  \n",
      " 0   name         4839 non-null   object \n",
      " 1   genres       4839 non-null   object \n",
      " 2   rating       4839 non-null   float64\n",
      " 3   no_of_votes  4839 non-null   int64  \n",
      " 4   gross        2084 non-null   float64\n",
      " 5   budget       4839 non-null   float64\n",
      " 6   countries    4839 non-null   object \n",
      " 7   url          4839 non-null   object \n",
      "dtypes: float64(3), int64(1), object(4)\n",
      "memory usage: 302.6+ KB\n"
     ]
    }
   ],
   "execution_count": 1
  },
  {
   "metadata": {},
   "cell_type": "code",
   "outputs": [],
   "execution_count": null,
   "source": "",
   "id": "8e4255b08c15e16a"
  }
 ],
 "metadata": {
  "kernelspec": {
   "display_name": "Python 3",
   "language": "python",
   "name": "python3"
  },
  "language_info": {
   "codemirror_mode": {
    "name": "ipython",
    "version": 2
   },
   "file_extension": ".py",
   "mimetype": "text/x-python",
   "name": "python",
   "nbconvert_exporter": "python",
   "pygments_lexer": "ipython2",
   "version": "2.7.6"
  }
 },
 "nbformat": 4,
 "nbformat_minor": 5
}
