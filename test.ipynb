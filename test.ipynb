{
 "cells": [
  {
   "cell_type": "code",
   "execution_count": 2,
   "id": "initial_id",
   "metadata": {
    "ExecuteTime": {
     "end_time": "2025-05-05T15:55:08.785444Z",
     "start_time": "2025-05-05T15:55:08.760431Z"
    },
    "collapsed": true
   },
   "outputs": [
    {
     "name": "stdout",
     "output_type": "stream",
     "text": [
      "<class 'pandas.core.frame.DataFrame'>\n",
      "RangeIndex: 2084 entries, 0 to 2083\n",
      "Data columns (total 9 columns):\n",
      " #   Column        Non-Null Count  Dtype  \n",
      "---  ------        --------------  -----  \n",
      " 0   name          2084 non-null   object \n",
      " 1   genres        2084 non-null   object \n",
      " 2   rating        2084 non-null   float64\n",
      " 3   no_of_votes   2084 non-null   int64  \n",
      " 4   meta_score    2084 non-null   float64\n",
      " 5   release_date  2084 non-null   float64\n",
      " 6   gross         2084 non-null   float64\n",
      " 7   budget        2084 non-null   float64\n",
      " 8   countries     2084 non-null   object \n",
      "dtypes: float64(5), int64(1), object(3)\n",
      "memory usage: 146.7+ KB\n"
     ]
    }
   ],
   "source": [
    "import pandas as pd\n",
    "df = pd.read_csv(\"movies_data_processed_v2.csv\")\n",
    "df.info()"
   ]
  },
  {
   "cell_type": "code",
   "execution_count": 3,
   "id": "8e4255b08c15e16a",
   "metadata": {
    "ExecuteTime": {
     "end_time": "2025-05-06T06:38:50.210824Z",
     "start_time": "2025-05-06T06:38:49.816511Z"
    }
   },
   "outputs": [
    {
     "data": {
      "text/html": [
       "<div>\n",
       "<style scoped>\n",
       "    .dataframe tbody tr th:only-of-type {\n",
       "        vertical-align: middle;\n",
       "    }\n",
       "\n",
       "    .dataframe tbody tr th {\n",
       "        vertical-align: top;\n",
       "    }\n",
       "\n",
       "    .dataframe thead th {\n",
       "        text-align: right;\n",
       "    }\n",
       "</style>\n",
       "<table border=\"1\" class=\"dataframe\">\n",
       "  <thead>\n",
       "    <tr style=\"text-align: right;\">\n",
       "      <th></th>\n",
       "      <th>name</th>\n",
       "      <th>genres</th>\n",
       "      <th>rating</th>\n",
       "      <th>no_of_votes</th>\n",
       "      <th>meta_score</th>\n",
       "      <th>release_date</th>\n",
       "      <th>gross</th>\n",
       "      <th>budget</th>\n",
       "      <th>countries</th>\n",
       "    </tr>\n",
       "  </thead>\n",
       "  <tbody>\n",
       "    <tr>\n",
       "      <th>0</th>\n",
       "      <td>Love Hurts</td>\n",
       "      <td>Martial Arts, Action, Comedy</td>\n",
       "      <td>5.3</td>\n",
       "      <td>6800</td>\n",
       "      <td>34.0</td>\n",
       "      <td>2025.0</td>\n",
       "      <td>17235040.0</td>\n",
       "      <td>18000000.0</td>\n",
       "      <td>United States</td>\n",
       "    </tr>\n",
       "    <tr>\n",
       "      <th>1</th>\n",
       "      <td>The Quick and the Dead</td>\n",
       "      <td>Action, Drama, Romance, Thriller, Western</td>\n",
       "      <td>6.5</td>\n",
       "      <td>107000</td>\n",
       "      <td>49.0</td>\n",
       "      <td>1995.0</td>\n",
       "      <td>18636537.0</td>\n",
       "      <td>32000000.0</td>\n",
       "      <td>United States, Japan</td>\n",
       "    </tr>\n",
       "    <tr>\n",
       "      <th>2</th>\n",
       "      <td>Puss in Boots: The Last Wish</td>\n",
       "      <td>Animal Adventure, Computer Animation, Fairy Ta...</td>\n",
       "      <td>7.8</td>\n",
       "      <td>200000</td>\n",
       "      <td>73.0</td>\n",
       "      <td>2022.0</td>\n",
       "      <td>481757663.0</td>\n",
       "      <td>90000000.0</td>\n",
       "      <td>United States, Japan</td>\n",
       "    </tr>\n",
       "    <tr>\n",
       "      <th>3</th>\n",
       "      <td>The Fifth Element</td>\n",
       "      <td>Sci-Fi Epic, Space Sci-Fi, Action, Adventure, ...</td>\n",
       "      <td>7.6</td>\n",
       "      <td>524000</td>\n",
       "      <td>52.0</td>\n",
       "      <td>1997.0</td>\n",
       "      <td>263920180.0</td>\n",
       "      <td>25000000.0</td>\n",
       "      <td>France, United Kingdom</td>\n",
       "    </tr>\n",
       "    <tr>\n",
       "      <th>4</th>\n",
       "      <td>Superman</td>\n",
       "      <td>Sci-Fi Epic, Superhero, Urban Adventure, Actio...</td>\n",
       "      <td>7.4</td>\n",
       "      <td>195000</td>\n",
       "      <td>82.0</td>\n",
       "      <td>1978.0</td>\n",
       "      <td>300478449.0</td>\n",
       "      <td>55000000.0</td>\n",
       "      <td>United States, United Kingdom, Switzerland, Pa...</td>\n",
       "    </tr>\n",
       "  </tbody>\n",
       "</table>\n",
       "</div>"
      ],
      "text/plain": [
       "                           name  \\\n",
       "0                    Love Hurts   \n",
       "1        The Quick and the Dead   \n",
       "2  Puss in Boots: The Last Wish   \n",
       "3             The Fifth Element   \n",
       "4                      Superman   \n",
       "\n",
       "                                              genres  rating  no_of_votes  \\\n",
       "0                       Martial Arts, Action, Comedy     5.3         6800   \n",
       "1          Action, Drama, Romance, Thriller, Western     6.5       107000   \n",
       "2  Animal Adventure, Computer Animation, Fairy Ta...     7.8       200000   \n",
       "3  Sci-Fi Epic, Space Sci-Fi, Action, Adventure, ...     7.6       524000   \n",
       "4  Sci-Fi Epic, Superhero, Urban Adventure, Actio...     7.4       195000   \n",
       "\n",
       "   meta_score  release_date        gross      budget  \\\n",
       "0        34.0        2025.0   17235040.0  18000000.0   \n",
       "1        49.0        1995.0   18636537.0  32000000.0   \n",
       "2        73.0        2022.0  481757663.0  90000000.0   \n",
       "3        52.0        1997.0  263920180.0  25000000.0   \n",
       "4        82.0        1978.0  300478449.0  55000000.0   \n",
       "\n",
       "                                           countries  \n",
       "0                                      United States  \n",
       "1                               United States, Japan  \n",
       "2                               United States, Japan  \n",
       "3                             France, United Kingdom  \n",
       "4  United States, United Kingdom, Switzerland, Pa...  "
      ]
     },
     "execution_count": 3,
     "metadata": {},
     "output_type": "execute_result"
    }
   ],
   "source": [
    "df.head()"
   ]
  },
  {
   "cell_type": "code",
   "execution_count": null,
   "id": "5fbea4c7fec92742",
   "metadata": {},
   "outputs": [],
   "source": []
  }
 ],
 "metadata": {
  "kernelspec": {
   "display_name": "base",
   "language": "python",
   "name": "python3"
  },
  "language_info": {
   "codemirror_mode": {
    "name": "ipython",
    "version": 3
   },
   "file_extension": ".py",
   "mimetype": "text/x-python",
   "name": "python",
   "nbconvert_exporter": "python",
   "pygments_lexer": "ipython3",
   "version": "3.12.7"
  }
 },
 "nbformat": 4,
 "nbformat_minor": 5
}
