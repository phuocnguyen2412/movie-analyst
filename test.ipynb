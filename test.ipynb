{
 "cells": [
  {
   "cell_type": "code",
   "id": "initial_id",
   "metadata": {
    "collapsed": true,
    "ExecuteTime": {
     "end_time": "2025-05-05T15:55:08.785444Z",
     "start_time": "2025-05-05T15:55:08.760431Z"
    }
   },
   "source": [
    "import pandas as pd\n",
    "df = pd.read_csv(\"movies_data_processed.csv\")\n",
    "df.info()"
   ],
   "outputs": [
    {
     "name": "stdout",
     "output_type": "stream",
     "text": [
      "<class 'pandas.core.frame.DataFrame'>\n",
      "RangeIndex: 2084 entries, 0 to 2083\n",
      "Data columns (total 8 columns):\n",
      " #   Column       Non-Null Count  Dtype  \n",
      "---  ------       --------------  -----  \n",
      " 0   name         2084 non-null   object \n",
      " 1   genres       2084 non-null   object \n",
      " 2   rating       2084 non-null   float64\n",
      " 3   no_of_votes  2084 non-null   int64  \n",
      " 4   gross        2084 non-null   float64\n",
      " 5   budget       2084 non-null   float64\n",
      " 6   countries    2084 non-null   object \n",
      " 7   url          2084 non-null   object \n",
      "dtypes: float64(3), int64(1), object(4)\n",
      "memory usage: 130.4+ KB\n"
     ]
    }
   ],
   "execution_count": 2
  },
  {
   "metadata": {
    "ExecuteTime": {
     "end_time": "2025-05-06T06:38:50.210824Z",
     "start_time": "2025-05-06T06:38:49.816511Z"
    }
   },
   "cell_type": "code",
   "source": "df.head()",
   "id": "8e4255b08c15e16a",
   "outputs": [
    {
     "ename": "NameError",
     "evalue": "name 'df' is not defined",
     "output_type": "error",
     "traceback": [
      "\u001B[31m---------------------------------------------------------------------------\u001B[39m",
      "\u001B[31mNameError\u001B[39m                                 Traceback (most recent call last)",
      "\u001B[36mCell\u001B[39m\u001B[36m \u001B[39m\u001B[32mIn[1]\u001B[39m\u001B[32m, line 1\u001B[39m\n\u001B[32m----> \u001B[39m\u001B[32m1\u001B[39m df.head()\n",
      "\u001B[31mNameError\u001B[39m: name 'df' is not defined"
     ]
    }
   ],
   "execution_count": 1
  },
  {
   "metadata": {},
   "cell_type": "code",
   "outputs": [],
   "execution_count": null,
   "source": "",
   "id": "5fbea4c7fec92742"
  }
 ],
 "metadata": {
  "kernelspec": {
   "display_name": "Python 3",
   "language": "python",
   "name": "python3"
  },
  "language_info": {
   "codemirror_mode": {
    "name": "ipython",
    "version": 2
   },
   "file_extension": ".py",
   "mimetype": "text/x-python",
   "name": "python",
   "nbconvert_exporter": "python",
   "pygments_lexer": "ipython2",
   "version": "2.7.6"
  }
 },
 "nbformat": 4,
 "nbformat_minor": 5
}
