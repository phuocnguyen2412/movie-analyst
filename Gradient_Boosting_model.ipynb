{
 "cells": [
  {
   "cell_type": "code",
   "execution_count": 55,
   "id": "bc0f82bf",
   "metadata": {},
   "outputs": [],
   "source": [
    "import pandas as pd\n",
    "from sklearn.ensemble import GradientBoostingRegressor\n",
    "from sklearn.model_selection import train_test_split, KFold, cross_val_score\n",
    "from sklearn.metrics import mean_squared_error, r2_score\n",
    "from sklearn.preprocessing import StandardScaler\n",
    "import numpy as np"
   ]
  },
  {
   "cell_type": "code",
   "execution_count": 56,
   "id": "12c3fbd7",
   "metadata": {},
   "outputs": [
    {
     "name": "stdout",
     "output_type": "stream",
     "text": [
      "Min gross: 2.995732273553991\n",
      "Max gross: 21.79611943720888\n",
      "Mean gross: 16.81006966826664\n"
     ]
    }
   ],
   "source": [
    "# 1. Đọc dữ liệu\n",
    "df = pd.read_csv(\"encoded_data.csv\")\n",
    "\n",
    "# Tách các feature và target\n",
    "X = df.drop(columns=['gross','gross_log'])\n",
    "y = df['gross_log']\n",
    "\n",
    "# Chuẩn hóa dữ liệu (StandardScaler)\n",
    "scaler = StandardScaler()\n",
    "X_scaled = scaler.fit_transform(X)\n",
    "\n",
    "# Chia dữ liệu thành train và test để kiểm tra overfitting\n",
    "X_train, X_test, y_train, y_test = train_test_split(X_scaled, y, test_size=0.2, random_state=42)\n",
    "\n",
    "print(f\"Min gross: {y.min()}\")\n",
    "print(f\"Max gross: {y.max()}\")\n",
    "print(f\"Mean gross: {y.mean()}\")\n"
   ]
  },
  {
   "cell_type": "code",
   "execution_count": 62,
   "id": "b98e460b",
   "metadata": {},
   "outputs": [],
   "source": [
    "#  Khởi tạo mô hình Gradient Boosting\n",
    "model = GradientBoostingRegressor(\n",
    "    n_estimators=100,        # Số lượng cây, thử giảm nếu quá lớn\n",
    "    max_depth=3,             # Giới hạn chiều sâu của cây\n",
    "    learning_rate=0.05,       # Điều chỉnh tốc độ học\n",
    "    min_samples_split=10,    # Điều chỉnh số mẫu tối thiểu cho mỗi split\n",
    "    min_samples_leaf=5,      # Điều chỉnh số mẫu tối thiểu cho mỗi lá\n",
    "    random_state=42\n",
    ")"
   ]
  },
  {
   "cell_type": "code",
   "execution_count": 63,
   "id": "cd406f18",
   "metadata": {},
   "outputs": [
    {
     "name": "stdout",
     "output_type": "stream",
     "text": [
      "Training RMSE: 1.7269\n",
      "Test RMSE: 2.0426\n",
      "Training R²: 0.6839\n",
      "Test R²: 0.5635\n"
     ]
    }
   ],
   "source": [
    "# Huấn luyện mô hình với dữ liệu huấn luyện\n",
    "model.fit(X_train, y_train)\n",
    "\n",
    "# Dự đoán trên tập huấn luyện và kiểm thử\n",
    "train_pred = model.predict(X_train)\n",
    "test_pred = model.predict(X_test)\n",
    "\n",
    "# Đánh giá mô hình với RMSE và R²\n",
    "train_rmse = np.sqrt(mean_squared_error(y_train, train_pred))\n",
    "test_rmse = np.sqrt(mean_squared_error(y_test, test_pred))\n",
    "\n",
    "train_r2 = r2_score(y_train, train_pred)\n",
    "test_r2 = r2_score(y_test, test_pred)\n",
    "\n",
    "print(f\"Training RMSE: {train_rmse:.4f}\")\n",
    "print(f\"Test RMSE: {test_rmse:.4f}\")\n",
    "print(f\"Training R²: {train_r2:.4f}\")\n",
    "print(f\"Test R²: {test_r2:.4f}\")"
   ]
  },
  {
   "cell_type": "code",
   "execution_count": 29,
   "id": "0b426b16",
   "metadata": {},
   "outputs": [
    {
     "name": "stdout",
     "output_type": "stream",
     "text": [
      "RMSE Percentage: 0.00%\n"
     ]
    }
   ],
   "source": [
    "rmse_percentage = (test_rmse / 144453202.24) * 100\n",
    "print(f\"RMSE Percentage: {rmse_percentage:.2f}%\")\n"
   ]
  },
  {
   "cell_type": "code",
   "execution_count": null,
   "id": "97db9b15",
   "metadata": {},
   "outputs": [
    {
     "name": "stdout",
     "output_type": "stream",
     "text": [
      "Cross-validation RMSE: 1.9730\n",
      "Cross-validation R²: 0.5889\n"
     ]
    }
   ],
   "source": [
    "# Cross-validation\n",
    "kfold = KFold(n_splits=5, shuffle=True, random_state=42)\n",
    "\n",
    "# Đánh giá mô hình bằng cross-validation cho RMSE\n",
    "cross_val_score_model_rmse = cross_val_score(model, X_scaled, y, cv=kfold, scoring='neg_mean_squared_error')\n",
    "cross_val_rmse = np.sqrt(-cross_val_score_model_rmse.mean())\n",
    "print(f\"Cross-validation RMSE: {cross_val_rmse:.4f}\")\n",
    "\n",
    "# Cross-validation (R²)\n",
    "cross_val_score_model_r2 = cross_val_score(model, X_scaled, y, cv=kfold, scoring='r2')\n",
    "cross_val_r2 = cross_val_score_model_r2.mean()\n",
    "print(f\"Cross-validation R²: {cross_val_r2:.4f}\")"
   ]
  }
 ],
 "metadata": {
  "kernelspec": {
   "display_name": "venv",
   "language": "python",
   "name": "python3"
  },
  "language_info": {
   "codemirror_mode": {
    "name": "ipython",
    "version": 3
   },
   "file_extension": ".py",
   "mimetype": "text/x-python",
   "name": "python",
   "nbconvert_exporter": "python",
   "pygments_lexer": "ipython3",
   "version": "3.10.11"
  }
 },
 "nbformat": 4,
 "nbformat_minor": 5
}
