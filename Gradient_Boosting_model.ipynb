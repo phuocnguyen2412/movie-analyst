{
 "cells": [
  {
   "cell_type": "code",
   "execution_count": 9,
   "id": "bc0f82bf",
   "metadata": {},
   "outputs": [],
   "source": [
    "import pandas as pd\n",
    "from sklearn.ensemble import GradientBoostingRegressor\n",
    "from sklearn.model_selection import train_test_split, KFold, cross_val_score,StratifiedShuffleSplit\n",
    "from sklearn.metrics import mean_squared_error, mean_absolute_error, r2_score\n",
    "from sklearn.preprocessing import StandardScaler\n",
    "import numpy as np\n",
    "import matplotlib.pyplot as plt"
   ]
  },
  {
   "cell_type": "code",
   "execution_count": 10,
   "id": "12c3fbd7",
   "metadata": {},
   "outputs": [
    {
     "name": "stdout",
     "output_type": "stream",
     "text": [
      "Min gross_log: 3.00\n",
      "Max gross_log: 21.80\n",
      "Mean gross_log: 16.81\n"
     ]
    },
    {
     "data": {
      "image/png": "[encoded data removed]",
      "text/plain": [
       "<Figure size 1000x500 with 1 Axes>"
      ]
     },
     "metadata": {},
     "output_type": "display_data"
    }
   ],
   "source": [
    "# Đọc dữ liệu\n",
    "df = pd.read_csv(\"encoded_data.csv\")\n",
    "\n",
    "# Feature và target\n",
    "X = df.drop(columns=['gross', 'gross_log'])\n",
    "y = df['gross_log']\n",
    "\n",
    "# Rời rạc hóa target thành 10 nhóm\n",
    "y_binned = pd.qcut(y, q=10, labels=False, duplicates='drop')\n",
    "\n",
    "# Chia train/test với phân phối giống nhau\n",
    "splitter = StratifiedShuffleSplit(n_splits=1, test_size=0.2, random_state=42)\n",
    "for train_idx, test_idx in splitter.split(X, y_binned):\n",
    "    X_train, X_test = X.iloc[train_idx], X.iloc[test_idx]\n",
    "    y_train, y_test = y.iloc[train_idx], y.iloc[test_idx]\n",
    "\n",
    "# Chuẩn hóa\n",
    "scaler = StandardScaler()\n",
    "X_train_scaled = scaler.fit_transform(X_train)\n",
    "X_test_scaled = scaler.transform(X_test)\n",
    "\n",
    "# Thống kê\n",
    "print(f\"Min gross_log: {y.min():.2f}\")\n",
    "print(f\"Max gross_log: {y.max():.2f}\")\n",
    "print(f\"Mean gross_log: {y.mean():.2f}\")\n",
    "\n",
    "# Vẽ phân phối\n",
    "plt.figure(figsize=(10, 5))\n",
    "plt.hist(y_train, bins=30, alpha=0.6, label='Train', color='blue', density=True)\n",
    "plt.hist(y_test, bins=30, alpha=0.6, label='Test', color='orange', density=True)\n",
    "plt.title(\"Phân phối gross_log giữa Train/Test\")\n",
    "plt.xlabel(\"gross_log\")\n",
    "plt.ylabel(\"Tần suất chuẩn hóa\")\n",
    "plt.legend()\n",
    "plt.grid(True)\n",
    "plt.tight_layout()\n",
    "plt.show()"
   ]
  },
  {
   "cell_type": "code",
   "execution_count": 11,
   "id": "b98e460b",
   "metadata": {},
   "outputs": [],
   "source": [
    "#  Khởi tạo mô hình Gradient Boosting\n",
    "model = GradientBoostingRegressor(\n",
    "    n_estimators=100,        # Số lượng cây, thử giảm nếu quá lớn\n",
    "    max_depth=3,             # Giới hạn chiều sâu của cây\n",
    "    learning_rate=0.05,       # Điều chỉnh tốc độ học\n",
    "    min_samples_split=10,    # Điều chỉnh số mẫu tối thiểu cho mỗi split\n",
    "    min_samples_leaf=5,      # Điều chỉnh số mẫu tối thiểu cho mỗi lá\n",
    "    random_state=42\n",
    ")"
   ]
  },
  {
   "cell_type": "code",
   "execution_count": 12,
   "id": "cd406f18",
   "metadata": {},
   "outputs": [
    {
     "name": "stdout",
     "output_type": "stream",
     "text": [
      "Training RMSE: 1.7362\n",
      "Test RMSE: 2.0194\n",
      "Training R²: 0.6801\n",
      "Test R²: 0.5769\n"
     ]
    }
   ],
   "source": [
    "# Huấn luyện mô hình với dữ liệu huấn luyện\n",
    "model.fit(X_train, y_train)\n",
    "\n",
    "# Dự đoán trên tập huấn luyện và kiểm thử\n",
    "train_pred = model.predict(X_train)\n",
    "test_pred = model.predict(X_test)\n",
    "\n",
    "# Đánh giá mô hình với RMSE và R²\n",
    "train_rmse = np.sqrt(mean_squared_error(y_train, train_pred))\n",
    "test_rmse = np.sqrt(mean_squared_error(y_test, test_pred))\n",
    "\n",
    "train_r2 = r2_score(y_train, train_pred)\n",
    "test_r2 = r2_score(y_test, test_pred)\n",
    "\n",
    "print(f\"Training RMSE: {train_rmse:.4f}\")\n",
    "print(f\"Test RMSE: {test_rmse:.4f}\")\n",
    "print(f\"Training R²: {train_r2:.4f}\")\n",
    "print(f\"Test R²: {test_r2:.4f}\")"
   ]
  },
  {
   "cell_type": "code",
   "execution_count": 13,
   "id": "97db9b15",
   "metadata": {},
   "outputs": [
    {
     "name": "stdout",
     "output_type": "stream",
     "text": [
      "📊 Cross-validation results:\n",
      "Fold 1: RMSE=2.0426, MSE=4.1723, MAE=1.3840, R²=0.5635\n",
      "Fold 2: RMSE=2.0942, MSE=4.3858, MAE=1.3703, R²=0.5586\n",
      "Fold 3: RMSE=2.0185, MSE=4.0742, MAE=1.3519, R²=0.6092\n",
      "Fold 4: RMSE=1.8328, MSE=3.3593, MAE=1.2409, R²=0.6154\n",
      "Fold 5: RMSE=1.8635, MSE=3.4726, MAE=1.2615, R²=0.5976\n",
      "\n",
      "📈 Average Cross-validation Performance:\n",
      "Avg RMSE: 1.9703\n",
      "Avg MSE:  3.8928\n",
      "Avg MAE:  1.3217\n",
      "Avg R²:   0.5889\n"
     ]
    }
   ],
   "source": [
    "# Tạo KFold\n",
    "kfold = KFold(n_splits=5, shuffle=True, random_state=42)\n",
    "\n",
    "# Danh sách lưu kết quả\n",
    "rmse_list, mse_list, mae_list, r2_list = [], [], [], []\n",
    "\n",
    "print(\"📊 Cross-validation results:\")\n",
    "\n",
    "for fold, (train_idx, val_idx) in enumerate(kfold.split(X_scaled), 1):\n",
    "    X_train_cv, X_val_cv = X_scaled[train_idx], X_scaled[val_idx]\n",
    "    y_train_cv, y_val_cv = y[train_idx], y[val_idx]\n",
    "\n",
    "    model.fit(X_train_cv, y_train_cv)\n",
    "    y_pred_cv = model.predict(X_val_cv)\n",
    "\n",
    "    rmse = np.sqrt(mean_squared_error(y_val_cv, y_pred_cv))\n",
    "    mse = mean_squared_error(y_val_cv, y_pred_cv)\n",
    "    mae = mean_absolute_error(y_val_cv, y_pred_cv)\n",
    "    r2 = r2_score(y_val_cv, y_pred_cv)\n",
    "\n",
    "    rmse_list.append(rmse)\n",
    "    mse_list.append(mse)\n",
    "    mae_list.append(mae)\n",
    "    r2_list.append(r2)\n",
    "\n",
    "    print(f\"Fold {fold}: RMSE={rmse:.4f}, MSE={mse:.4f}, MAE={mae:.4f}, R²={r2:.4f}\")\n",
    "\n",
    "# In kết quả trung bình\n",
    "print(\"\\n📈 Average Cross-validation Performance:\")\n",
    "print(f\"Avg RMSE: {np.mean(rmse_list):.4f}\")\n",
    "print(f\"Avg MSE:  {np.mean(mse_list):.4f}\")\n",
    "print(f\"Avg MAE:  {np.mean(mae_list):.4f}\")\n",
    "print(f\"Avg R²:   {np.mean(r2_list):.4f}\")"
   ]
  }
 ],
 "metadata": {
  "kernelspec": {
   "display_name": "venv",
   "language": "python",
   "name": "python3"
  },
  "language_info": {
   "codemirror_mode": {
    "name": "ipython",
    "version": 3
   },
   "file_extension": ".py",
   "mimetype": "text/x-python",
   "name": "python",
   "nbconvert_exporter": "python",
   "pygments_lexer": "ipython3",
   "version": "3.10.11"
  }
 },
 "nbformat": 4,
 "nbformat_minor": 5
}
