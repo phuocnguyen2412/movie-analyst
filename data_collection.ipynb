{
 "cells": [
  {
   "cell_type": "markdown",
   "metadata": {},
   "source": [
    "## THU THẬP DỮ LIỆU\n",
    "### 1. Phương pháp thu thập dữ liệu\n",
    "Dữ liệu được thu thập thông qua phương pháp **Web Crawling**\n",
    "### 2. Dữ liệu sử dụng\n",
    " - **Nguồn dữ liệu**: Dữ liệu được thu thập từ trang web [IMDB](https://www.imdb.com/).\n",
    " - **Số lượng mẫu**: 27 x 300 = 8100 mẫu để đảm bảo dữ liệu phân tích đủ lớn sau quá trình xử lý dữ liệu.\n",
    "### 3. Biến (Variable/Feature)\n",
    "Dữ liệu thu thập được sẽ bao gồm **11 biến (features)** khác nhau:\n",
    "| Feratures | Mô tả | \n",
    "|----------|----------|\n",
    "| **name**   | Tên của phim   | \n",
    "|**genres**   | Các thể loại của phim   |\n",
    "|**type**   | Phân loại movie (Movie/TV Series)   |\n",
    "| **rating**   |  Đánh giá của bộ phim tại trang IMDB (thang 10) |\n",
    "|  **no_of_votes**   | Tổng số vote    |\n",
    "| **meta_score**  | Điểm được đánh giá từ các nhà phê bình    |\n",
    "| **release_date**   | Năm mà phim được phát hành  |\n",
    "| **gross**    | Doanh thu    |\n",
    "| **budget**   |  Ngân sách    |\n",
    "| **counttries**    | Quốc gia sản xuất phim   |\n",
    "| **url**  |liên kết đến trang phim   |\n",
    "### 4. Cách thức thu thập dữ liệu\n",
    "- Chọn trang web **IMDB** có các thông tin liên quan đến [dữ liệu phim].\n",
    "- Sử dụng các thư viện Python như `Selenium` và `concurrent` để tải trang web và thu thập dữ liệu từ các thẻ HTML.\n",
    "*Trình tự thực hiện*"
   ]
  },
  {
   "cell_type": "markdown",
   "metadata": {},
   "source": [
    "- **Bước 1** : Import thư viện"
   ]
  },
  {
   "cell_type": "code",
   "execution_count": 4,
   "metadata": {},
   "outputs": [],
   "source": [
    "from selenium import webdriver\n",
    "from selenium.webdriver.chrome.service import Service as ChromeService\n",
    "from webdriver_manager.chrome import ChromeDriverManager\n",
    "from selenium.webdriver.chrome.options import Options as ChromeOptions\n",
    "from selenium.webdriver.common.by import By\n",
    "from selenium.webdriver.common.action_chains import ActionChains\n",
    "from selenium.webdriver.support.ui import WebDriverWait\n",
    "from selenium.webdriver.support import expected_conditions as EC\n",
    "from concurrent.futures import ThreadPoolExecutor, as_completed\n",
    "import pandas as pd\n",
    "import os\n",
    "import time\n"
   ]
  },
  {
   "cell_type": "markdown",
   "metadata": {},
   "source": [
    "- **Bước 2** : Cài đặt và cấu hình Selenium WebDriver"
   ]
  },
  {
   "cell_type": "code",
   "execution_count": null,
   "metadata": {},
   "outputs": [],
   "source": [
    "service = ChromeService(ChromeDriverManager().install())\n",
    "chrome_options = ChromeOptions()\n",
    "chrome_options.add_argument(\"--headless=new\")  # Chế độ headless\n",
    "chrome_options.add_argument(\n",
    "    \"user-agent=Mozilla/5.0 (Windows NT 10.0; Win64; x64) AppleWebKit/537.36 (KHTML, like Gecko) Chrome/110.0.0.0 Safari/537.36\"\n",
    ")"
   ]
  },
  {
   "cell_type": "markdown",
   "metadata": {},
   "source": [
    "- **Bước 3** : Truy cập và thu thập danh sách thể loại phim từ IMDb"
   ]
  },
  {
   "cell_type": "code",
   "execution_count": null,
   "metadata": {},
   "outputs": [],
   "source": [
    "def get_genre_list():\n",
    "    driver = webdriver.Chrome(service=service, options=chrome_options)\n",
    "    url = \"https://www.imdb.com/search/title/\"\n",
    "    driver.get(url)\n",
    "    wait = WebDriverWait(driver, 10)\n",
    "    try:\n",
    "        time.sleep(5)\n",
    "\n",
    "        genre_section = wait.until(\n",
    "            EC.presence_of_element_located((By.ID, \"accordion-item-genreAccordion\"))\n",
    "        )\n",
    "\n",
    "        genres = [\n",
    "            button.text for button in genre_section.find_elements(By.TAG_NAME, \"button\")\n",
    "        ]\n",
    "        return genres\n",
    "    except Exception as e:\n",
    "        print(f\"ko tim thấy: {e}\")\n",
    "        return None\n",
    "    finally:\n",
    "        driver.quit()"
   ]
  },
  {
   "cell_type": "code",
   "execution_count": null,
   "metadata": {},
   "outputs": [],
   "source": [
    "genres = (get_genre_list())  #danh sách các thể loại phim từ trang tìm kiếm của IMDb\n",
    "print(\"Thể loại phim trên IMDb:\")\n",
    "for index, genre in enumerate(genres):\n",
    "    print(f\"{index+1}.{genre}\")"
   ]
  },
  {
   "cell_type": "markdown",
   "metadata": {},
   "source": [
    "- **Bước 4** : Thu thập liên kết phim theo thể loại"
   ]
  },
  {
   "cell_type": "code",
   "execution_count": null,
   "metadata": {},
   "outputs": [],
   "source": [
    "def get_links(genre, target_movies):\n",
    "    driver = webdriver.Chrome(service=service, options=chrome_options)\n",
    "    # https://www.imdb.com/search/title/?title_type=feature,tv_series&genres=animation\n",
    "    url = f\"https://www.imdb.com/search/title/?title_type=feature,tv_series&genres={genre.lower()}\"\n",
    "    driver.get(url)\n",
    "    time.sleep(5)\n",
    "    movie_urls = set()\n",
    "    while len(movie_urls) < target_movies:\n",
    "        ul_tag = driver.find_element(By.CSS_SELECTOR, \"ul.ipc-metadata-list\")\n",
    "        movie_links = ul_tag.find_elements(By.CSS_SELECTOR, \"a.ipc-title-link-wrapper\")\n",
    "\n",
    "        for link in movie_links:\n",
    "            movie_urls.add(link.get_attribute(\"href\"))\n",
    "\n",
    "        if len(movie_urls) >= target_movies:\n",
    "            break\n",
    "\n",
    "        try:\n",
    "            more_button = driver.find_element(\n",
    "                By.CSS_SELECTOR, \"button.ipc-see-more__button\"\n",
    "            )\n",
    "            ActionChains(driver).move_to_element(more_button).click().perform()\n",
    "            time.sleep(5)\n",
    "        except:\n",
    "            print(\"đã hết phim\")\n",
    "            break\n",
    "\n",
    "    driver.quit()\n",
    "    return list(movie_urls)"
   ]
  },
  {
   "cell_type": "markdown",
   "metadata": {},
   "source": [
    "Lưu liên kết phim theo thể loại vào tệp"
   ]
  },
  {
   "cell_type": "code",
   "execution_count": null,
   "metadata": {},
   "outputs": [],
   "source": [
    "movies_by_genre = {}\n",
    "\n",
    "genres = get_genre_list()\n",
    "for index, genre in enumerate(genres):\n",
    "    filename = f\"./links/{genre}.txt\"\n",
    "    movies_by_genre[genre] = get_links(genre, target_movies=300)\n",
    "    with open(filename, \"w\", encoding=\"utf-8\") as f:\n",
    "        for link in movies_by_genre[genre]:\n",
    "            f.write(link + \"\\n\")\n",
    "\n",
    "    print(f\"{index}. Đã lưu {len(movies_by_genre[genre] )} phim vào {filename}\")"
   ]
  },
  {
   "cell_type": "markdown",
   "metadata": {},
   "source": [
    "- **Bước 5** : Đọc liên kết phim từ các tệp"
   ]
  },
  {
   "cell_type": "code",
   "execution_count": null,
   "metadata": {},
   "outputs": [],
   "source": [
    "import os\n",
    "\n",
    "\n",
    "def read_links_from_files():\n",
    "\n",
    "    movies_by_genre = {}\n",
    "    directory = \"links\"\n",
    "\n",
    "    if not os.path.exists(directory):\n",
    "        print(f\"Thư mục '{directory}' không tồn tại!\")\n",
    "        return movies_by_genre\n",
    "\n",
    "    for filename in os.listdir(directory):\n",
    "        if filename.endswith(\".txt\"):\n",
    "            genre = filename.replace(\".txt\", \"\")  # Lấy tên thể loại từ tên file\n",
    "            file_path = os.path.join(directory, filename)  # Đường dẫn file\n",
    "\n",
    "            # Đọc nội dung file\n",
    "            with open(file_path, \"r\", encoding=\"utf-8\") as f:\n",
    "                movie_links = [\n",
    "                    line.strip() for line in f.readlines()\n",
    "                ]  # Đọc tất cả link\n",
    "\n",
    "            # Lưu vào dictionary\n",
    "            movies_by_genre[genre] = movie_links\n",
    "\n",
    "    return movies_by_genre\n",
    "\n",
    "\n",
    "movies_by_genre = read_links_from_files()\n",
    "\n",
    "\n",
    "for genre, links in movies_by_genre.items():\n",
    "    print(f\"{genre}: {len(links)} phim\")"
   ]
  },
  {
   "cell_type": "markdown",
   "metadata": {},
   "source": [
    "- **Bước 6** : Thu thập chi tiết về từng bộ phim"
   ]
  },
  {
   "cell_type": "code",
   "execution_count": null,
   "metadata": {},
   "outputs": [],
   "source": [
    "def get_movie_details(url):\n",
    "    service = ChromeService(ChromeDriverManager().install())\n",
    "    chrome_options = ChromeOptions()\n",
    "    chrome_options.add_argument(\"--headless=new\")  # Chế độ headless\n",
    "    chrome_options.add_argument(\n",
    "        \"user-agent=Mozilla/5.0 (Windows NT 10.0; Win64; x64) AppleWebKit/537.36 (KHTML, like Gecko) Chrome/110.0.0.0 Safari/537.36\"\n",
    "    )\n",
    "    driver = webdriver.Chrome(service=service, options=chrome_options)\n",
    "    driver.get(url)\n",
    "    time.sleep(5)\n",
    "\n",
    "    try:\n",
    "        name = driver.find_element(By.CSS_SELECTOR, \"span.hero__primary-text\").text\n",
    "\n",
    "        genres = \", \".join(\n",
    "            [\n",
    "                g.text\n",
    "                for g in driver.find_elements(\n",
    "                    By.CSS_SELECTOR, \"div.ipc-chip-list__scroller span.ipc-chip__text\"\n",
    "                )\n",
    "            ]\n",
    "        )\n",
    "\n",
    "        try:\n",
    "            rating = driver.find_element(\n",
    "                By.CSS_SELECTOR,\n",
    "                'div[data-testid=\"hero-rating-bar__aggregate-rating__score\"] span',\n",
    "            ).text\n",
    "        except:\n",
    "            rating = \"NA\"\n",
    "\n",
    "        try:\n",
    "            no_of_votes = driver.find_element(By.CLASS_NAME, \"sc-d541859f-3\").text\n",
    "        except:\n",
    "            no_of_votes = \"NA\"\n",
    "\n",
    "        try:\n",
    "            release_date = driver.find_element(\n",
    "                By.CSS_SELECTOR,\n",
    "                'li[data-testid=\"title-details-releasedate\"] a.ipc-metadata-list-item__list-content-item--link',\n",
    "            ).text\n",
    "        except:\n",
    "            release_date = \"NA\"\n",
    "\n",
    "        try:\n",
    "            gross = driver.find_element(\n",
    "                By.CSS_SELECTOR,\n",
    "                'li[data-testid=\"title-boxoffice-cumulativeworldwidegross\"] span.ipc-metadata-list-item__list-content-item',\n",
    "            ).text\n",
    "        except:\n",
    "            gross = \"NA\"\n",
    "\n",
    "        try:\n",
    "            countries = \", \".join(\n",
    "                [\n",
    "                    country.text\n",
    "                    for country in driver.find_elements(\n",
    "                        By.CSS_SELECTOR, 'li[data-testid=\"title-details-origin\"] a'\n",
    "                    )\n",
    "                ]\n",
    "            )\n",
    "        except:\n",
    "            countries = \"NA\"\n",
    "\n",
    "        try:\n",
    "            budget = driver.find_element(\n",
    "                By.CSS_SELECTOR,\n",
    "                'li[data-testid=\"title-boxoffice-budget\"] span.ipc-metadata-list-item__list-content-item',\n",
    "            ).text\n",
    "        except:\n",
    "            budget = \"NA\"\n",
    "\n",
    "        try:\n",
    "            meta_score = driver.find_element(\n",
    "                By.CSS_SELECTOR, \"span.metacritic-score-box\"\n",
    "            ).text\n",
    "        except:\n",
    "            meta_score = \"NA\"\n",
    "\n",
    "        try:\n",
    "            el = driver.find_element(\n",
    "                By.CSS_SELECTOR, 'section[data-testid=\"episodes-widget\"]'\n",
    "            )\n",
    "            type = \"TV Series\"\n",
    "        except:\n",
    "            type = \"Movie\"\n",
    "    except Exception as e:\n",
    "        print(f\" Lỗi khi lấy dữ liệu từ {url}: {e}\")\n",
    "        return None\n",
    "\n",
    "    driver.quit()\n",
    "    return {\n",
    "        \"name\": name,\n",
    "        \"genres\": genres,\n",
    "        \"type\": type,\n",
    "        \"rating\": rating,\n",
    "        \"no_of_votes\": no_of_votes,\n",
    "        \"meta_score\": meta_score,\n",
    "        \"release_date\": release_date,\n",
    "        \"gross\": gross,\n",
    "        \"budget\": budget,\n",
    "        \"countries\": countries,\n",
    "        \"url\": url,\n",
    "    }"
   ]
  },
  {
   "cell_type": "markdown",
   "metadata": {},
   "source": [
    "- **Bước 6**: Thu thập dữ liệu phim và lưu vào tệp CSV"
   ]
  },
  {
   "cell_type": "code",
   "execution_count": null,
   "metadata": {},
   "outputs": [],
   "source": [
    "def scrape_movie_parallel(fileout=\"movies_data.csv\"):\n",
    "    movies_data = []\n",
    "\n",
    "    # Chạy song song với ThreadPoolExecutor\n",
    "    with ThreadPoolExecutor(max_workers=4) as executor:\n",
    "        future_to_url = {\n",
    "            executor.submit(get_movie_details, url): (genre, index, url)\n",
    "            for genre, movie_links in movies_by_genre.items()\n",
    "            for index, url in enumerate(movie_links)\n",
    "        }\n",
    "\n",
    "        for future in as_completed(future_to_url):\n",
    "            genre, index, url = future_to_url[future]\n",
    "            try:\n",
    "                data = future.result()\n",
    "                if data:\n",
    "                    movies_data.append(data)\n",
    "                    print(\n",
    "                        f\"{index}. Đã lấy thông tin phim: {data['name']} (Thể loại: {genre})\"\n",
    "                    )\n",
    "            except Exception as e:\n",
    "                print(f\" Lỗi khi lấy phim {url}: {e}\")\n",
    "\n",
    "    # Lưu kết quả vào CSV\n",
    "    if movies_data:\n",
    "        df = pd.DataFrame(movies_data)\n",
    "        df.to_csv(fileout, mode=\"a\", index=False)\n",
    "\n",
    "    print(f\"Hoàn thành! Đã lưu {len(movies_data)} phim vào {fileout}\")"
   ]
  },
  {
   "cell_type": "code",
   "execution_count": null,
   "metadata": {},
   "outputs": [],
   "source": [
    "scrape_movie_parallel()"
   ]
  },
  {
   "cell_type": "markdown",
   "metadata": {},
   "source": []
  }
 ],
 "metadata": {
  "kernelspec": {
   "display_name": ".venv",
   "language": "python",
   "name": "python3"
  },
  "language_info": {
   "codemirror_mode": {
    "name": "ipython",
    "version": 3
   },
   "file_extension": ".py",
   "mimetype": "text/x-python",
   "name": "python",
   "nbconvert_exporter": "python",
   "pygments_lexer": "ipython3",
   "version": "3.10.9"
  }
 },
 "nbformat": 4,
 "nbformat_minor": 2
}
